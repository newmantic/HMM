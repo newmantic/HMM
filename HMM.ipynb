{
  "nbformat": 4,
  "nbformat_minor": 0,
  "metadata": {
    "colab": {
      "provenance": [],
      "authorship_tag": "ABX9TyMxyr8BEqdjCskKjIFgHzkS",
      "include_colab_link": true
    },
    "kernelspec": {
      "name": "python3",
      "display_name": "Python 3"
    },
    "language_info": {
      "name": "python"
    }
  },
  "cells": [
    {
      "cell_type": "markdown",
      "metadata": {
        "id": "view-in-github",
        "colab_type": "text"
      },
      "source": [
        "<a href=\"https://colab.research.google.com/github/newmantic/HMM/blob/main/HMM.ipynb\" target=\"_parent\"><img src=\"https://colab.research.google.com/assets/colab-badge.svg\" alt=\"Open In Colab\"/></a>"
      ]
    },
    {
      "cell_type": "code",
      "execution_count": 3,
      "metadata": {
        "id": "fzHBIJ1UZMco"
      },
      "outputs": [],
      "source": [
        "import numpy as np\n",
        "\n",
        "class HiddenMarkovModel:\n",
        "    def __init__(self, A, B, pi):\n",
        "        self.A = np.array(A)  # Transition probability matrix\n",
        "        self.B = np.array(B)  # Emission probability matrix\n",
        "        self.pi = np.array(pi)  # Initial state distribution\n",
        "        self.N = self.A.shape[0]  # Number of states\n",
        "        self.M = self.B.shape[1]  # Number of observation symbols\n",
        "\n",
        "    def forward(self, observations):\n",
        "        T = len(observations)\n",
        "        alpha = np.zeros((T, self.N))\n",
        "\n",
        "        # Initialize base cases (t == 0)\n",
        "        alpha[0, :] = self.pi * self.B[:, observations[0]]\n",
        "\n",
        "        # Recursive case\n",
        "        for t in range(1, T):\n",
        "            for j in range(self.N):\n",
        "                alpha[t, j] = np.sum(alpha[t-1, :] * self.A[:, j]) * self.B[j, observations[t]]\n",
        "\n",
        "        return alpha\n",
        "\n",
        "    def backward(self, observations):\n",
        "        T = len(observations)\n",
        "        beta = np.zeros((T, self.N))\n",
        "\n",
        "        # Initialize base cases (t == T-1)\n",
        "        beta[T-1, :] = 1\n",
        "\n",
        "        # Recursive case\n",
        "        for t in range(T-2, -1, -1):\n",
        "            for i in range(self.N):\n",
        "                beta[t, i] = np.sum(self.A[i, :] * self.B[:, observations[t+1]] * beta[t+1, :])\n",
        "\n",
        "        return beta\n",
        "\n",
        "    def baum_welch(self, observations, max_iters=100):\n",
        "        T = len(observations)\n",
        "\n",
        "        for n in range(max_iters):\n",
        "            # Expectation step\n",
        "            alpha = self.forward(observations)\n",
        "            beta = self.backward(observations)\n",
        "\n",
        "            xi = np.zeros((self.N, self.N, T-1))\n",
        "            for t in range(T-1):\n",
        "                denominator = np.sum(alpha[t, :] * np.sum(self.A * self.B[:, observations[t+1]] * beta[t+1, :], axis=1))\n",
        "                for i in range(self.N):\n",
        "                    numerator = alpha[t, i] * self.A[i, :] * self.B[:, observations[t+1]] * beta[t+1, :]\n",
        "                    xi[i, :, t] = numerator / denominator\n",
        "\n",
        "            gamma = np.sum(xi, axis=1)\n",
        "\n",
        "            # Maximization step\n",
        "            self.pi = gamma[:, 0]\n",
        "            self.A = np.sum(xi, axis=2) / np.sum(gamma, axis=1, keepdims=True)\n",
        "\n",
        "            gamma = np.hstack((gamma, np.sum(xi[:, :, T-2], axis=0, keepdims=True).T))\n",
        "\n",
        "            for k in range(self.M):\n",
        "                mask = (observations == k)\n",
        "                self.B[:, k] = np.sum(gamma[:, mask], axis=1) / np.sum(gamma, axis=1)\n",
        "\n",
        "    def viterbi(self, observations):\n",
        "        T = len(observations)\n",
        "        delta = np.zeros((T, self.N))\n",
        "        psi = np.zeros((T, self.N), dtype=int)\n",
        "        states = np.zeros(T, dtype=int)\n",
        "\n",
        "        # Initialize base cases (t == 0)\n",
        "        delta[0, :] = self.pi * self.B[:, observations[0]]\n",
        "\n",
        "        # Recursive case\n",
        "        for t in range(1, T):\n",
        "            for j in range(self.N):\n",
        "                delta[t, j] = np.max(delta[t-1, :] * self.A[:, j]) * self.B[j, observations[t]]\n",
        "                psi[t, j] = np.argmax(delta[t-1, :] * self.A[:, j])\n",
        "\n",
        "        # Backtracking\n",
        "        states[T-1] = np.argmax(delta[T-1, :])\n",
        "        for t in range(T-2, -1, -1):\n",
        "            states[t] = psi[t+1, states[t+1]]\n",
        "\n",
        "        return states, np.max(delta[T-1, :])\n",
        "\n",
        "    def generate_sequence(self, length):\n",
        "        states = np.zeros(length, dtype=int)\n",
        "        observations = np.zeros(length, dtype=int)\n",
        "\n",
        "        # Initialize first state\n",
        "        states[0] = np.random.choice(self.N, p=self.pi)\n",
        "        observations[0] = np.random.choice(self.M, p=self.B[states[0], :])\n",
        "\n",
        "        for t in range(1, length):\n",
        "            states[t] = np.random.choice(self.N, p=self.A[states[t-1], :])\n",
        "            observations[t] = np.random.choice(self.M, p=self.B[states[t], :])\n",
        "\n",
        "        return states, observations"
      ]
    },
    {
      "cell_type": "code",
      "source": [
        "# Define the HMM parameters\n",
        "A = [[0.7, 0.3],\n",
        "     [0.4, 0.6]]\n",
        "\n",
        "B = [[0.1, 0.4, 0.5],\n",
        "     [0.7, 0.2, 0.1]]\n",
        "\n",
        "pi = [0.6, 0.4]\n",
        "\n",
        "# Define observation sequence (e.g., encoded as 0, 1, 2 corresponding to the emissions)\n",
        "observations = [0, 1, 2]\n",
        "\n",
        "# Initialize HMM\n",
        "hmm = HiddenMarkovModel(A, B, pi)\n",
        "\n",
        "# Calculate the probability of the observation sequence using the forward algorithm\n",
        "prob_forward = hmm.forward(observations)\n",
        "print(f\"Probability of the observation sequence (Forward): {prob_forward}\")\n",
        "\n",
        "# Calculate the probability of the observation sequence using the backward algorithm\n",
        "prob_backward = hmm.backward(observations)\n",
        "print(f\"Probability of the observation sequence (Backward): {prob_backward}\")\n",
        "\n",
        "# Find the most likely state sequence using the Viterbi algorithm\n",
        "state_sequence, viterbi_prob = hmm.viterbi(observations)\n",
        "print(f\"Most likely state sequence: {state_sequence}\")\n",
        "print(f\"Probability of the most likely state sequence (Viterbi): {viterbi_prob}\")\n",
        "\n",
        "# Generate a random sequence of states and observations\n",
        "generated_states, generated_observations = hmm.generate_sequence(5)\n",
        "print(f\"Generated states: {generated_states}\")\n",
        "print(f\"Generated observations: {generated_observations}\")"
      ],
      "metadata": {
        "colab": {
          "base_uri": "https://localhost:8080/"
        },
        "id": "vPqq2-XKblDN",
        "outputId": "521c9f62-594b-436f-808d-a958dec92ea2"
      },
      "execution_count": 4,
      "outputs": [
        {
          "output_type": "stream",
          "name": "stdout",
          "text": [
            "Probability of the observation sequence (Forward): [[0.06    0.28   ]\n",
            " [0.0616  0.0372 ]\n",
            " [0.029   0.00408]]\n",
            "Probability of the observation sequence (Backward): [[0.122 0.092]\n",
            " [0.38  0.26 ]\n",
            " [1.    1.   ]]\n",
            "Most likely state sequence: [1 0 0]\n",
            "Probability of the most likely state sequence (Viterbi): 0.01568\n",
            "Generated states: [0 0 1 0 0]\n",
            "Generated observations: [2 2 1 2 2]\n"
          ]
        }
      ]
    },
    {
      "cell_type": "code",
      "source": [],
      "metadata": {
        "id": "uPi75PBUbl36"
      },
      "execution_count": null,
      "outputs": []
    }
  ]
}